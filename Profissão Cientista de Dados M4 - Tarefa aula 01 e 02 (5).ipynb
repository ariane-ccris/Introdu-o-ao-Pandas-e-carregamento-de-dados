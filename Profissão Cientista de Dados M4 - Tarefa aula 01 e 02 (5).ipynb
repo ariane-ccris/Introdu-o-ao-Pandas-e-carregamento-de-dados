{
 "cells": [
  {
   "cell_type": "markdown",
   "metadata": {},
   "source": [
    "# Tarefa 01\n",
    "\n",
    "- Leia os enunciados com atenção\n",
    "- Saiba que pode haver mais de uma resposta correta\n",
    "- Insira novas células de código sempre que achar necessário\n",
    "- Em caso de dúvidas, procure os tutores\n",
    "- Divirta-se :)\n",
    "\n",
    "#### 1)  crie uma série do pandas a partir de uma lista com os dados abaixo:\n",
    "\n",
    "Em um estudo sobre alteração na tempreatura global, A NASA disponibiliza dados de diferenças de de temperatura média da superfície terrestre relativos às médias de temperatura entre 1951 e 1980. Os dados originais podem ser vistos no site da NASA/GISS, e estão dispostos a cada década na tabela abaixo.\n",
    "\n",
    "|ano|anomalia termica|\n",
    "|:-:|:----:|\n",
    "| 1900 | -0.08 |\n",
    "| 1920 | -0.27 |\n",
    "| 1940 | 0.12 |\n",
    "| 1960 | -0.03 |\n",
    "| 1980 | 0.26 |\n",
    "| 2000 | 0.40 |\n",
    "| 2020 | 1.02 |\n",
    "\n",
    "Crie uma séries do Pandas a partir de uma lista com esses dados."
   ]
  },
  {
   "cell_type": "code",
   "execution_count": 1,
   "metadata": {},
   "outputs": [
    {
     "name": "stdout",
     "output_type": "stream",
     "text": [
      "0   -0.08\n",
      "1   -0.27\n",
      "2    0.12\n",
      "3   -0.03\n",
      "4    0.26\n",
      "5    0.40\n",
      "6    1.02\n",
      "dtype: float64\n"
     ]
    }
   ],
   "source": [
    "import pandas as pd\n",
    "import numpy as np\n",
    "\n",
    "# Dados fornecidos \n",
    "anos = [1900, 1920, 1940, 1960, 1980, 2000, 2020]\n",
    "# Criando uma série\n",
    "anomalias = pd.Series([-0.08, -0.27, 0.12, -0.03, 0.26, 0.40, 1.02])\n",
    "\n",
    "print(anomalias)\n"
   ]
  },
  {
   "cell_type": "markdown",
   "metadata": {},
   "source": [
    "#### 2) Coloque os anos nos índices conforme a tabela."
   ]
  },
  {
   "cell_type": "code",
   "execution_count": 2,
   "metadata": {},
   "outputs": [
    {
     "name": "stdout",
     "output_type": "stream",
     "text": [
      "1900   -0.08\n",
      "1920   -0.27\n",
      "1940    0.12\n",
      "1960   -0.03\n",
      "1980    0.26\n",
      "2000    0.40\n",
      "2020    1.02\n",
      "dtype: float64\n"
     ]
    }
   ],
   "source": [
    "#Colocando o ano nos índices\n",
    "anomalias = ([-0.08, -0.27, 0.12, -0.03, 0.26, 0.40, 1.02])\n",
    "serie_anomalias = pd.Series(anomalias, index=anos)\n",
    "print(serie_anomalias)\n"
   ]
  },
  {
   "cell_type": "markdown",
   "metadata": {},
   "source": [
    "#### 3) A partir do dicionário abaixo, crie uma séries do Pandas:"
   ]
  },
  {
   "cell_type": "code",
   "execution_count": 3,
   "metadata": {},
   "outputs": [
    {
     "name": "stdout",
     "output_type": "stream",
     "text": [
      "1900   -0.08\n",
      "1920   -0.27\n",
      "1940    0.12\n",
      "1960   -0.03\n",
      "1980    0.26\n",
      "2000    0.40\n",
      "2020    1.02\n",
      "dtype: float64\n"
     ]
    }
   ],
   "source": [
    "dic_temperaturas = {1900: -.08, 1920: -.27, 1940: .12, 1960: -.03, 1980: .26, 2000: .40, 2020: 1.02}\n",
    "\n",
    "serie_temp = pd.Series(dic_temperaturas)\n",
    "print(serie_temp)\n"
   ]
  },
  {
   "cell_type": "markdown",
   "metadata": {},
   "source": [
    "#### 4) Transforme o ndarray abaixo em um dataframe. \n",
    "O numpy é capaz de gerar arrays n-dimensionais com números pseudo-aleatórios de acordo com uma variedade de distribuições, como no exemplo abaixo. Transforme esse nd-array em um DataFrame."
   ]
  },
  {
   "cell_type": "code",
   "execution_count": 4,
   "metadata": {},
   "outputs": [
    {
     "name": "stdout",
     "output_type": "stream",
     "text": [
      "             0           1           2\n",
      "0    94.702637   86.669880  106.420111\n",
      "1   111.621944  100.929376   98.886867\n",
      "2    96.374256   94.007345   94.729225\n",
      "3    85.866790   96.172863   95.575966\n",
      "4    98.228996   97.133285   83.214546\n",
      "5    99.123582  111.819558  103.441084\n",
      "6    92.943814   90.240448  108.578616\n",
      "7    81.377455   93.997637   87.844996\n",
      "8    84.358792  101.650915   96.460887\n",
      "9   103.094435  109.859039  111.074619\n",
      "10   82.579126  101.526243  102.348754\n",
      "11  112.639283   99.396574   82.270366\n",
      "12  101.759377  109.802443   94.907220\n",
      "13   79.556599  102.199969   97.087933\n",
      "14   98.431876  105.042062  111.902821\n",
      "15  119.414002   91.566052  115.042049\n",
      "16   74.566603  106.464630  110.665887\n",
      "17   92.703856  121.300545  102.171705\n",
      "18   94.945728   87.602629   93.784036\n",
      "19  112.860267   93.631836  102.612905\n"
     ]
    }
   ],
   "source": [
    "arr = np.random.normal(100, 10, (20,3))\n",
    "\n",
    "#Transformando um array em em um DataFrame \n",
    "df = pd.DataFrame(arr)\n",
    "\n",
    "print(df)"
   ]
  },
  {
   "cell_type": "markdown",
   "metadata": {},
   "source": [
    "#### 5) Nomeie os índices das linhas com inteiros de 1 a 20, e as colunas com os nomes \"x1\", \"x2\", e \"x3\" respectivamente."
   ]
  },
  {
   "cell_type": "code",
   "execution_count": 5,
   "metadata": {},
   "outputs": [
    {
     "name": "stdout",
     "output_type": "stream",
     "text": [
      "            x1          x2          x3\n",
      "1    94.702637   86.669880  106.420111\n",
      "2   111.621944  100.929376   98.886867\n",
      "3    96.374256   94.007345   94.729225\n",
      "4    85.866790   96.172863   95.575966\n",
      "5    98.228996   97.133285   83.214546\n",
      "6    99.123582  111.819558  103.441084\n",
      "7    92.943814   90.240448  108.578616\n",
      "8    81.377455   93.997637   87.844996\n",
      "9    84.358792  101.650915   96.460887\n",
      "10  103.094435  109.859039  111.074619\n",
      "11   82.579126  101.526243  102.348754\n",
      "12  112.639283   99.396574   82.270366\n",
      "13  101.759377  109.802443   94.907220\n",
      "14   79.556599  102.199969   97.087933\n",
      "15   98.431876  105.042062  111.902821\n",
      "16  119.414002   91.566052  115.042049\n",
      "17   74.566603  106.464630  110.665887\n",
      "18   92.703856  121.300545  102.171705\n",
      "19   94.945728   87.602629   93.784036\n",
      "20  112.860267   93.631836  102.612905\n"
     ]
    }
   ],
   "source": [
    "#Alterando o indice\n",
    "df.index = range(1, 21)\n",
    "#Renomeando as colunas\n",
    "df.columns = [\"x1\", \"x2\", \"x3\"]\n",
    "\n",
    "print(df)\n"
   ]
  },
  {
   "cell_type": "markdown",
   "metadata": {},
   "source": [
    "#### 6) No DataFrame do exercício 5, crie uma nova coluna como sendo a média das três colunas, e dê a ela o nome de \"media\" (não recomendo colocar acentos em nomes de variáveis)."
   ]
  },
  {
   "cell_type": "code",
   "execution_count": 6,
   "metadata": {},
   "outputs": [
    {
     "name": "stdout",
     "output_type": "stream",
     "text": [
      "            x1          x2          x3       media\n",
      "1    94.702637   86.669880  106.420111   95.930876\n",
      "2   111.621944  100.929376   98.886867  103.812729\n",
      "3    96.374256   94.007345   94.729225   95.036942\n",
      "4    85.866790   96.172863   95.575966   92.538540\n",
      "5    98.228996   97.133285   83.214546   92.858942\n",
      "6    99.123582  111.819558  103.441084  104.794741\n",
      "7    92.943814   90.240448  108.578616   97.254292\n",
      "8    81.377455   93.997637   87.844996   87.740030\n",
      "9    84.358792  101.650915   96.460887   94.156865\n",
      "10  103.094435  109.859039  111.074619  108.009364\n",
      "11   82.579126  101.526243  102.348754   95.484708\n",
      "12  112.639283   99.396574   82.270366   98.102074\n",
      "13  101.759377  109.802443   94.907220  102.156347\n",
      "14   79.556599  102.199969   97.087933   92.948167\n",
      "15   98.431876  105.042062  111.902821  105.125586\n",
      "16  119.414002   91.566052  115.042049  108.674034\n",
      "17   74.566603  106.464630  110.665887   97.232373\n",
      "18   92.703856  121.300545  102.171705  105.392035\n",
      "19   94.945728   87.602629   93.784036   92.110798\n",
      "20  112.860267   93.631836  102.612905  103.035003\n"
     ]
    }
   ],
   "source": [
    "#Calculando a média das três colunas\n",
    "df[\"media\"] = df[[\"x1\", \"x2\", \"x3\"]].mean(axis=1)\n",
    "\n",
    "print(df)"
   ]
  },
  {
   "cell_type": "markdown",
   "metadata": {},
   "source": [
    "#### 7) No DataFrame do exercício 6, crie uma nova coluna chamada \"log_med\", contendo o logaritmo natural da média calculada no exercício 6 <br>"
   ]
  },
  {
   "cell_type": "code",
   "execution_count": 7,
   "metadata": {},
   "outputs": [
    {
     "name": "stdout",
     "output_type": "stream",
     "text": [
      "            x1          x2          x3       media   log_med\n",
      "1    94.702637   86.669880  106.420111   95.930876  4.563628\n",
      "2   111.621944  100.929376   98.886867  103.812729  4.642589\n",
      "3    96.374256   94.007345   94.729225   95.036942  4.554266\n",
      "4    85.866790   96.172863   95.575966   92.538540  4.527625\n",
      "5    98.228996   97.133285   83.214546   92.858942  4.531082\n",
      "6    99.123582  111.819558  103.441084  104.794741  4.652004\n",
      "7    92.943814   90.240448  108.578616   97.254292  4.577329\n",
      "8    81.377455   93.997637   87.844996   87.740030  4.474378\n",
      "9    84.358792  101.650915   96.460887   94.156865  4.544962\n",
      "10  103.094435  109.859039  111.074619  108.009364  4.682218\n",
      "11   82.579126  101.526243  102.348754   95.484708  4.558966\n",
      "12  112.639283   99.396574   82.270366   98.102074  4.586009\n",
      "13  101.759377  109.802443   94.907220  102.156347  4.626504\n",
      "14   79.556599  102.199969   97.087933   92.948167  4.532042\n",
      "15   98.431876  105.042062  111.902821  105.125586  4.655156\n",
      "16  119.414002   91.566052  115.042049  108.674034  4.688353\n",
      "17   74.566603  106.464630  110.665887   97.232373  4.577104\n",
      "18   92.703856  121.300545  102.171705  105.392035  4.657687\n",
      "19   94.945728   87.602629   93.784036   92.110798  4.522992\n",
      "20  112.860267   93.631836  102.612905  103.035003  4.635069\n"
     ]
    }
   ],
   "source": [
    "# Criando uma nova coluna\"\n",
    "df[\"log_med\"] = np.log(df[\"media\"])\n",
    "\n",
    "# Exibindo o DataFrame final\n",
    "print(df)"
   ]
  },
  {
   "cell_type": "code",
   "execution_count": null,
   "metadata": {},
   "outputs": [],
   "source": []
  },
  {
   "cell_type": "code",
   "execution_count": null,
   "metadata": {},
   "outputs": [],
   "source": []
  }
 ],
 "metadata": {
  "kernelspec": {
   "display_name": "anaconda-panel-2023.05-py310",
   "language": "python",
   "name": "conda-env-anaconda-panel-2023.05-py310-py"
  },
  "language_info": {
   "codemirror_mode": {
    "name": "ipython",
    "version": 3
   },
   "file_extension": ".py",
   "mimetype": "text/x-python",
   "name": "python",
   "nbconvert_exporter": "python",
   "pygments_lexer": "ipython3",
   "version": "3.11.5"
  }
 },
 "nbformat": 4,
 "nbformat_minor": 4
}
