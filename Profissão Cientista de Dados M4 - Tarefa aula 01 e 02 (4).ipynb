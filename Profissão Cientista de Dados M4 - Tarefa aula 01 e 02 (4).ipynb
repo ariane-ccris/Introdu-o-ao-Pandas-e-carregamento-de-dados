{
 "cells": [
  {
   "cell_type": "markdown",
   "metadata": {},
   "source": [
    "# Tarefa 01\n",
    "\n",
    "- Leia os enunciados com atenção\n",
    "- Saiba que pode haver mais de uma resposta correta\n",
    "- Insira novas células de código sempre que achar necessário\n",
    "- Em caso de dúvidas, procure os tutores\n",
    "- Divirta-se :)\n",
    "\n",
    "#### 1)  crie uma série do pandas a partir de uma lista com os dados abaixo:\n",
    "\n",
    "Em um estudo sobre alteração na tempreatura global, A NASA disponibiliza dados de diferenças de de temperatura média da superfície terrestre relativos às médias de temperatura entre 1951 e 1980. Os dados originais podem ser vistos no site da NASA/GISS, e estão dispostos a cada década na tabela abaixo.\n",
    "\n",
    "|ano|anomalia termica|\n",
    "|:-:|:----:|\n",
    "| 1900 | -0.08 |\n",
    "| 1920 | -0.27 |\n",
    "| 1940 | 0.12 |\n",
    "| 1960 | -0.03 |\n",
    "| 1980 | 0.26 |\n",
    "| 2000 | 0.40 |\n",
    "| 2020 | 1.02 |\n",
    "\n",
    "Crie uma séries do Pandas a partir de uma lista com esses dados."
   ]
  },
  {
   "cell_type": "code",
   "execution_count": 1,
   "metadata": {},
   "outputs": [
    {
     "name": "stdout",
     "output_type": "stream",
     "text": [
      "0   -0.08\n",
      "1   -0.27\n",
      "2    0.12\n",
      "3   -0.03\n",
      "4    0.26\n",
      "5    0.40\n",
      "6    1.02\n",
      "dtype: float64\n"
     ]
    }
   ],
   "source": [
    "import pandas as pd\n",
    "import numpy as np\n",
    "\n",
    "# Dados fornecidos \n",
    "anos = [1900, 1920, 1940, 1960, 1980, 2000, 2020]\n",
    "# Criando uma série\n",
    "anomalias = pd.Series([-0.08, -0.27, 0.12, -0.03, 0.26, 0.40, 1.02])\n",
    "\n",
    "print(anomalias)\n"
   ]
  },
  {
   "cell_type": "markdown",
   "metadata": {},
   "source": [
    "#### 2) Coloque os anos nos índices conforme a tabela."
   ]
  },
  {
   "cell_type": "code",
   "execution_count": 8,
   "metadata": {},
   "outputs": [
    {
     "name": "stdout",
     "output_type": "stream",
     "text": [
      "1900   NaN\n",
      "1920   NaN\n",
      "1940   NaN\n",
      "1960   NaN\n",
      "1980   NaN\n",
      "2000   NaN\n",
      "2020   NaN\n",
      "dtype: float64\n"
     ]
    }
   ],
   "source": [
    "#Colocando o ano nos índices\n",
    "serie_anomalias = pd.Series(anomalias, index=anos)\n",
    "print(serie_anomalias)\n"
   ]
  },
  {
   "cell_type": "markdown",
   "metadata": {},
   "source": [
    "#### 3) A partir do dicionário abaixo, crie uma séries do Pandas:"
   ]
  },
  {
   "cell_type": "code",
   "execution_count": 3,
   "metadata": {},
   "outputs": [
    {
     "name": "stdout",
     "output_type": "stream",
     "text": [
      "1900   -0.08\n",
      "1920   -0.27\n",
      "1940    0.12\n",
      "1960   -0.03\n",
      "1980    0.26\n",
      "2000    0.40\n",
      "2020    1.02\n",
      "dtype: float64\n"
     ]
    }
   ],
   "source": [
    "dic_temperaturas = {1900: -.08, 1920: -.27, 1940: .12, 1960: -.03, 1980: .26, 2000: .40, 2020: 1.02}\n",
    "\n",
    "serie_temp = pd.Series(dic_temperaturas)\n",
    "print(serie_temp)\n"
   ]
  },
  {
   "cell_type": "markdown",
   "metadata": {},
   "source": [
    "#### 4) Transforme o ndarray abaixo em um dataframe. \n",
    "O numpy é capaz de gerar arrays n-dimensionais com números pseudo-aleatórios de acordo com uma variedade de distribuições, como no exemplo abaixo. Transforme esse nd-array em um DataFrame."
   ]
  },
  {
   "cell_type": "code",
   "execution_count": 4,
   "metadata": {},
   "outputs": [
    {
     "name": "stdout",
     "output_type": "stream",
     "text": [
      "             0           1           2\n",
      "0   105.861052  100.358531  104.735642\n",
      "1    87.875466   93.994887  106.484249\n",
      "2   112.376132  110.603709   99.402906\n",
      "3   102.771571  113.454142  107.722660\n",
      "4    98.304785   89.611503   86.368962\n",
      "5    96.070800  117.897035   88.230293\n",
      "6   101.041769  111.379829  102.992723\n",
      "7   107.511677   88.253820   94.330194\n",
      "8    98.452751   91.519179   92.229662\n",
      "9   114.759598  111.780263  122.488036\n",
      "10   93.461512   92.772805  100.979977\n",
      "11   77.971011   70.981256  111.552622\n",
      "12  105.017333  102.422025  103.899109\n",
      "13  105.741527   99.199910  102.303879\n",
      "14  108.829985  100.251664  111.344028\n",
      "15   93.771561  113.658907   76.307087\n",
      "16   91.048930  117.277877  110.311473\n",
      "17   91.984181  107.188992   99.483429\n",
      "18  117.208096  112.039426   90.079587\n",
      "19  106.383598   99.208306  114.457855\n"
     ]
    }
   ],
   "source": [
    "arr = np.random.normal(100, 10, (20,3))\n",
    "\n",
    "#Transformando um array em em um DataFrame \n",
    "df = pd.DataFrame(arr)\n",
    "\n",
    "print(df)"
   ]
  },
  {
   "cell_type": "markdown",
   "metadata": {},
   "source": [
    "#### 5) Nomeie os índices das linhas com inteiros de 1 a 20, e as colunas com os nomes \"x1\", \"x2\", e \"x3\" respectivamente."
   ]
  },
  {
   "cell_type": "code",
   "execution_count": 5,
   "metadata": {},
   "outputs": [
    {
     "name": "stdout",
     "output_type": "stream",
     "text": [
      "            x1          x2          x3\n",
      "1   105.861052  100.358531  104.735642\n",
      "2    87.875466   93.994887  106.484249\n",
      "3   112.376132  110.603709   99.402906\n",
      "4   102.771571  113.454142  107.722660\n",
      "5    98.304785   89.611503   86.368962\n",
      "6    96.070800  117.897035   88.230293\n",
      "7   101.041769  111.379829  102.992723\n",
      "8   107.511677   88.253820   94.330194\n",
      "9    98.452751   91.519179   92.229662\n",
      "10  114.759598  111.780263  122.488036\n",
      "11   93.461512   92.772805  100.979977\n",
      "12   77.971011   70.981256  111.552622\n",
      "13  105.017333  102.422025  103.899109\n",
      "14  105.741527   99.199910  102.303879\n",
      "15  108.829985  100.251664  111.344028\n",
      "16   93.771561  113.658907   76.307087\n",
      "17   91.048930  117.277877  110.311473\n",
      "18   91.984181  107.188992   99.483429\n",
      "19  117.208096  112.039426   90.079587\n",
      "20  106.383598   99.208306  114.457855\n"
     ]
    }
   ],
   "source": [
    "#Alterando o indice\n",
    "df.index = range(1, 21)\n",
    "#Renomeando as colunas\n",
    "df.columns = [\"x1\", \"x2\", \"x3\"]\n",
    "\n",
    "print(df)\n"
   ]
  },
  {
   "cell_type": "markdown",
   "metadata": {},
   "source": [
    "#### 6) No DataFrame do exercício 5, crie uma nova coluna como sendo a média das três colunas, e dê a ela o nome de \"media\" (não recomendo colocar acentos em nomes de variáveis)."
   ]
  },
  {
   "cell_type": "code",
   "execution_count": 6,
   "metadata": {},
   "outputs": [
    {
     "name": "stdout",
     "output_type": "stream",
     "text": [
      "            x1          x2          x3       media\n",
      "1   105.861052  100.358531  104.735642  103.651742\n",
      "2    87.875466   93.994887  106.484249   96.118201\n",
      "3   112.376132  110.603709   99.402906  107.460916\n",
      "4   102.771571  113.454142  107.722660  107.982791\n",
      "5    98.304785   89.611503   86.368962   91.428417\n",
      "6    96.070800  117.897035   88.230293  100.732710\n",
      "7   101.041769  111.379829  102.992723  105.138107\n",
      "8   107.511677   88.253820   94.330194   96.698564\n",
      "9    98.452751   91.519179   92.229662   94.067197\n",
      "10  114.759598  111.780263  122.488036  116.342632\n",
      "11   93.461512   92.772805  100.979977   95.738098\n",
      "12   77.971011   70.981256  111.552622   86.834963\n",
      "13  105.017333  102.422025  103.899109  103.779489\n",
      "14  105.741527   99.199910  102.303879  102.415105\n",
      "15  108.829985  100.251664  111.344028  106.808559\n",
      "16   93.771561  113.658907   76.307087   94.579185\n",
      "17   91.048930  117.277877  110.311473  106.212760\n",
      "18   91.984181  107.188992   99.483429   99.552200\n",
      "19  117.208096  112.039426   90.079587  106.442370\n",
      "20  106.383598   99.208306  114.457855  106.683253\n"
     ]
    }
   ],
   "source": [
    "#Calculando a média das três colunas\n",
    "df[\"media\"] = df[[\"x1\", \"x2\", \"x3\"]].mean(axis=1)\n",
    "\n",
    "print(df)"
   ]
  },
  {
   "cell_type": "markdown",
   "metadata": {},
   "source": [
    "#### 7) No DataFrame do exercício 6, crie uma nova coluna chamada \"log_med\", contendo o logaritmo natural da média calculada no exercício 6 <br>"
   ]
  },
  {
   "cell_type": "code",
   "execution_count": 7,
   "metadata": {},
   "outputs": [
    {
     "name": "stdout",
     "output_type": "stream",
     "text": [
      "            x1          x2          x3       media   log_med\n",
      "1   105.861052  100.358531  104.735642  103.651742  4.641037\n",
      "2    87.875466   93.994887  106.484249   96.118201  4.565579\n",
      "3   112.376132  110.603709   99.402906  107.460916  4.677127\n",
      "4   102.771571  113.454142  107.722660  107.982791  4.681972\n",
      "5    98.304785   89.611503   86.368962   91.428417  4.515556\n",
      "6    96.070800  117.897035   88.230293  100.732710  4.612471\n",
      "7   101.041769  111.379829  102.992723  105.138107  4.655275\n",
      "8   107.511677   88.253820   94.330194   96.698564  4.571599\n",
      "9    98.452751   91.519179   92.229662   94.067197  4.544009\n",
      "10  114.759598  111.780263  122.488036  116.342632  4.756540\n",
      "11   93.461512   92.772805  100.979977   95.738098  4.561616\n",
      "12   77.971011   70.981256  111.552622   86.834963  4.464009\n",
      "13  105.017333  102.422025  103.899109  103.779489  4.642268\n",
      "14  105.741527   99.199910  102.303879  102.415105  4.629034\n",
      "15  108.829985  100.251664  111.344028  106.808559  4.671038\n",
      "16   93.771561  113.658907   76.307087   94.579185  4.549437\n",
      "17   91.048930  117.277877  110.311473  106.212760  4.665444\n",
      "18   91.984181  107.188992   99.483429   99.552200  4.600682\n",
      "19  117.208096  112.039426   90.079587  106.442370  4.667604\n",
      "20  106.383598   99.208306  114.457855  106.683253  4.669864\n"
     ]
    }
   ],
   "source": [
    "# Criando uma nova coluna\"\n",
    "df[\"log_med\"] = np.log(df[\"media\"])\n",
    "\n",
    "# Exibindo o DataFrame final\n",
    "print(df)"
   ]
  },
  {
   "cell_type": "code",
   "execution_count": null,
   "metadata": {},
   "outputs": [],
   "source": []
  },
  {
   "cell_type": "code",
   "execution_count": null,
   "metadata": {},
   "outputs": [],
   "source": []
  }
 ],
 "metadata": {
  "kernelspec": {
   "display_name": "anaconda-panel-2023.05-py310",
   "language": "python",
   "name": "conda-env-anaconda-panel-2023.05-py310-py"
  },
  "language_info": {
   "codemirror_mode": {
    "name": "ipython",
    "version": 3
   },
   "file_extension": ".py",
   "mimetype": "text/x-python",
   "name": "python",
   "nbconvert_exporter": "python",
   "pygments_lexer": "ipython3",
   "version": "3.11.5"
  }
 },
 "nbformat": 4,
 "nbformat_minor": 4
}
