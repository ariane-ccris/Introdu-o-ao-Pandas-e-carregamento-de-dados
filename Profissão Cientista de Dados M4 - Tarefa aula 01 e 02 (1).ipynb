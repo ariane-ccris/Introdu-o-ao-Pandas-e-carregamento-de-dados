{
 "cells": [
  {
   "cell_type": "markdown",
   "metadata": {},
   "source": [
    "# Tarefa 01\n",
    "\n",
    "- Leia os enunciados com atenção\n",
    "- Saiba que pode haver mais de uma resposta correta\n",
    "- Insira novas células de código sempre que achar necessário\n",
    "- Em caso de dúvidas, procure os tutores\n",
    "- Divirta-se :)\n",
    "\n",
    "#### 1)  crie uma série do pandas a partir de uma lista com os dados abaixo:\n",
    "\n",
    "Em um estudo sobre alteração na tempreatura global, A NASA disponibiliza dados de diferenças de de temperatura média da superfície terrestre relativos às médias de temperatura entre 1951 e 1980. Os dados originais podem ser vistos no site da NASA/GISS, e estão dispostos a cada década na tabela abaixo.\n",
    "\n",
    "|ano|anomalia termica|\n",
    "|:-:|:----:|\n",
    "| 1900 | -0.08 |\n",
    "| 1920 | -0.27 |\n",
    "| 1940 | 0.12 |\n",
    "| 1960 | -0.03 |\n",
    "| 1980 | 0.26 |\n",
    "| 2000 | 0.40 |\n",
    "| 2020 | 1.02 |\n",
    "\n",
    "Crie uma séries do Pandas a partir de uma lista com esses dados."
   ]
  },
  {
   "cell_type": "code",
   "execution_count": 1,
   "metadata": {},
   "outputs": [
    {
     "name": "stdout",
     "output_type": "stream",
     "text": [
      "1900   -0.08\n",
      "1920   -0.27\n",
      "1940    0.12\n",
      "1960   -0.03\n",
      "1980    0.26\n",
      "2000    0.40\n",
      "2020    1.02\n",
      "dtype: float64\n"
     ]
    }
   ],
   "source": [
    "import pandas as pd\n",
    "import numpy as np\n",
    "\n",
    "# Dados fornecidos\n",
    "anos = [1900, 1920, 1940, 1960, 1980, 2000, 2020]\n",
    "anomalias = [-0.08, -0.27, 0.12, -0.03, 0.26, 0.40, 1.02]\n",
    "\n",
    "# Criando a série\n",
    "serie_anomalias = pd.Series(data=anomalias, index=anos)\n",
    "\n",
    "# Exibindo a série\n",
    "print(serie_anomalias)"
   ]
  },
  {
   "cell_type": "markdown",
   "metadata": {},
   "source": [
    "#### 2) Coloque os anos nos índices conforme a tabela."
   ]
  },
  {
   "cell_type": "code",
   "execution_count": 2,
   "metadata": {},
   "outputs": [],
   "source": [
    "\n",
    "serie_anomalias = pd.Series(anomalias, index=anos)\n"
   ]
  },
  {
   "cell_type": "markdown",
   "metadata": {},
   "source": [
    "#### 3) A partir do dicionário abaixo, crie uma séries do Pandas:"
   ]
  },
  {
   "cell_type": "code",
   "execution_count": 3,
   "metadata": {},
   "outputs": [
    {
     "name": "stdout",
     "output_type": "stream",
     "text": [
      "1900   -0.08\n",
      "1920   -0.27\n",
      "1940    0.12\n",
      "1960   -0.03\n",
      "1980    0.26\n",
      "2000    0.40\n",
      "2020    1.02\n",
      "dtype: float64\n"
     ]
    }
   ],
   "source": [
    "dic_temperaturas = {1900: -.08, 1920: -.27, 1940: .12, 1960: -.03, 1980: .26, 2000: .40, 2020: 1.02}\n",
    "\n",
    "serie_temp = pd.Series(dic_temperaturas)\n",
    "print(serie_temp)\n"
   ]
  },
  {
   "cell_type": "markdown",
   "metadata": {},
   "source": [
    "#### 4) Transforme o ndarray abaixo em um dataframe. \n",
    "O numpy é capaz de gerar arrays n-dimensionais com números pseudo-aleatórios de acordo com uma variedade de distribuições, como no exemplo abaixo. Transforme esse nd-array em um DataFrame."
   ]
  },
  {
   "cell_type": "code",
   "execution_count": 4,
   "metadata": {},
   "outputs": [
    {
     "name": "stdout",
     "output_type": "stream",
     "text": [
      "             0           1           2\n",
      "0   109.477438   83.666573  101.564890\n",
      "1   120.538474  115.786219   84.662945\n",
      "2   107.379022  113.761829  105.960252\n",
      "3   114.474884  111.548780   84.682052\n",
      "4   103.138326   83.855276   99.541756\n",
      "5   101.015555   76.821064  103.459396\n",
      "6   122.357744  105.450739  114.856334\n",
      "7    88.389872   96.939497  105.579721\n",
      "8    92.811171   87.381180   81.618192\n",
      "9   110.644248  108.820710   96.648405\n",
      "10  103.838211   95.710772   91.206556\n",
      "11  107.199693  117.042017   93.674233\n",
      "12   98.690959   97.773585  111.307459\n",
      "13  111.687156   97.772153  102.619395\n",
      "14  109.003600   82.670925  106.482907\n",
      "15   97.280516  116.881732   97.857681\n",
      "16  112.942515   95.175604   93.500908\n",
      "17   88.042828  109.153740  103.015258\n",
      "18   99.448425  102.034764  104.948128\n",
      "19   94.697769  108.458672   81.137250\n"
     ]
    }
   ],
   "source": [
    "arr = np.random.normal(100, 10, (20,3))\n",
    "\n",
    "#Transformando um array em em um DataFrame \n",
    "df = pd.DataFrame(arr)\n",
    "\n",
    "print(df)"
   ]
  },
  {
   "cell_type": "markdown",
   "metadata": {},
   "source": [
    "#### 5) Nomeie os índices das linhas com inteiros de 1 a 20, e as colunas com os nomes \"x1\", \"x2\", e \"x3\" respectivamente."
   ]
  },
  {
   "cell_type": "code",
   "execution_count": 5,
   "metadata": {},
   "outputs": [
    {
     "name": "stdout",
     "output_type": "stream",
     "text": [
      "            x1          x2          x3\n",
      "1   109.477438   83.666573  101.564890\n",
      "2   120.538474  115.786219   84.662945\n",
      "3   107.379022  113.761829  105.960252\n",
      "4   114.474884  111.548780   84.682052\n",
      "5   103.138326   83.855276   99.541756\n",
      "6   101.015555   76.821064  103.459396\n",
      "7   122.357744  105.450739  114.856334\n",
      "8    88.389872   96.939497  105.579721\n",
      "9    92.811171   87.381180   81.618192\n",
      "10  110.644248  108.820710   96.648405\n",
      "11  103.838211   95.710772   91.206556\n",
      "12  107.199693  117.042017   93.674233\n",
      "13   98.690959   97.773585  111.307459\n",
      "14  111.687156   97.772153  102.619395\n",
      "15  109.003600   82.670925  106.482907\n",
      "16   97.280516  116.881732   97.857681\n",
      "17  112.942515   95.175604   93.500908\n",
      "18   88.042828  109.153740  103.015258\n",
      "19   99.448425  102.034764  104.948128\n",
      "20   94.697769  108.458672   81.137250\n"
     ]
    }
   ],
   "source": [
    "#Alterando o indice\n",
    "df.index = range(1, 21)\n",
    "#Renomeando as colunas\n",
    "df.columns = [\"x1\", \"x2\", \"x3\"]\n",
    "\n",
    "print(df)\n"
   ]
  },
  {
   "cell_type": "markdown",
   "metadata": {},
   "source": [
    "#### 6) No DataFrame do exercício 5, crie uma nova coluna como sendo a média das três colunas, e dê a ela o nome de \"media\" (não recomendo colocar acentos em nomes de variáveis)."
   ]
  },
  {
   "cell_type": "code",
   "execution_count": 6,
   "metadata": {},
   "outputs": [
    {
     "name": "stdout",
     "output_type": "stream",
     "text": [
      "            x1          x2          x3       media\n",
      "1   109.477438   83.666573  101.564890   98.236301\n",
      "2   120.538474  115.786219   84.662945  106.995879\n",
      "3   107.379022  113.761829  105.960252  109.033701\n",
      "4   114.474884  111.548780   84.682052  103.568572\n",
      "5   103.138326   83.855276   99.541756   95.511786\n",
      "6   101.015555   76.821064  103.459396   93.765338\n",
      "7   122.357744  105.450739  114.856334  114.221605\n",
      "8    88.389872   96.939497  105.579721   96.969697\n",
      "9    92.811171   87.381180   81.618192   87.270181\n",
      "10  110.644248  108.820710   96.648405  105.371121\n",
      "11  103.838211   95.710772   91.206556   96.918513\n",
      "12  107.199693  117.042017   93.674233  105.971981\n",
      "13   98.690959   97.773585  111.307459  102.590668\n",
      "14  111.687156   97.772153  102.619395  104.026235\n",
      "15  109.003600   82.670925  106.482907   99.385810\n",
      "16   97.280516  116.881732   97.857681  104.006643\n",
      "17  112.942515   95.175604   93.500908  100.539676\n",
      "18   88.042828  109.153740  103.015258  100.070608\n",
      "19   99.448425  102.034764  104.948128  102.143773\n",
      "20   94.697769  108.458672   81.137250   94.764564\n"
     ]
    }
   ],
   "source": [
    "#Calculando a média das três colunas\n",
    "df[\"media\"] = df[[\"x1\", \"x2\", \"x3\"]].mean(axis=1)\n",
    "\n",
    "print(df)"
   ]
  },
  {
   "cell_type": "markdown",
   "metadata": {},
   "source": [
    "#### 7) No DataFrame do exercício 6, crie uma nova coluna chamada \"log_med\", contendo o logaritmo natural da média calculada no exercício 6 <br>"
   ]
  },
  {
   "cell_type": "code",
   "execution_count": 8,
   "metadata": {},
   "outputs": [
    {
     "name": "stdout",
     "output_type": "stream",
     "text": [
      "            x1          x2          x3       media   log_med\n",
      "1   109.477438   83.666573  101.564890   98.236301  4.587376\n",
      "2   120.538474  115.786219   84.662945  106.995879  4.672790\n",
      "3   107.379022  113.761829  105.960252  109.033701  4.691657\n",
      "4   114.474884  111.548780   84.682052  103.568572  4.640234\n",
      "5   103.138326   83.855276   99.541756   95.511786  4.559250\n",
      "6   101.015555   76.821064  103.459396   93.765338  4.540795\n",
      "7   122.357744  105.450739  114.856334  114.221605  4.738140\n",
      "8    88.389872   96.939497  105.579721   96.969697  4.574399\n",
      "9    92.811171   87.381180   81.618192   87.270181  4.469009\n",
      "10  110.644248  108.820710   96.648405  105.371121  4.657489\n",
      "11  103.838211   95.710772   91.206556   96.918513  4.573871\n",
      "12  107.199693  117.042017   93.674233  105.971981  4.663175\n",
      "13   98.690959   97.773585  111.307459  102.590668  4.630747\n",
      "14  111.687156   97.772153  102.619395  104.026235  4.644643\n",
      "15  109.003600   82.670925  106.482907   99.385810  4.599009\n",
      "16   97.280516  116.881732   97.857681  104.006643  4.644455\n",
      "17  112.942515   95.175604   93.500908  100.539676  4.610552\n",
      "18   88.042828  109.153740  103.015258  100.070608  4.605876\n",
      "19   99.448425  102.034764  104.948128  102.143773  4.626381\n",
      "20   94.697769  108.458672   81.137250   94.764564  4.551396\n"
     ]
    }
   ],
   "source": [
    "\n",
    "# Criando uma nova coluna\"\n",
    "df[\"log_med\"] = np.log(df[\"media\"])\n",
    "\n",
    "# Exibindo o DataFrame final\n",
    "print(df)"
   ]
  },
  {
   "cell_type": "code",
   "execution_count": null,
   "metadata": {},
   "outputs": [],
   "source": []
  },
  {
   "cell_type": "code",
   "execution_count": null,
   "metadata": {},
   "outputs": [],
   "source": []
  }
 ],
 "metadata": {
  "kernelspec": {
   "display_name": "anaconda-panel-2023.05-py310",
   "language": "python",
   "name": "conda-env-anaconda-panel-2023.05-py310-py"
  },
  "language_info": {
   "codemirror_mode": {
    "name": "ipython",
    "version": 3
   },
   "file_extension": ".py",
   "mimetype": "text/x-python",
   "name": "python",
   "nbconvert_exporter": "python",
   "pygments_lexer": "ipython3",
   "version": "3.11.5"
  }
 },
 "nbformat": 4,
 "nbformat_minor": 4
}
